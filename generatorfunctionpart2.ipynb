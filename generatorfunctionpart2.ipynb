{
 "cells": [
  {
   "cell_type": "code",
   "execution_count": 1,
   "id": "8b04bd96-10b9-4bd4-8c36-cef6e446b06c",
   "metadata": {},
   "outputs": [
    {
     "data": {
      "text/plain": [
       "range(0, 10)"
      ]
     },
     "execution_count": 1,
     "metadata": {},
     "output_type": "execute_result"
    }
   ],
   "source": [
    "##generator function is special type of function which can be created for different perspective \n",
    "range(10)"
   ]
  },
  {
   "cell_type": "code",
   "execution_count": 3,
   "id": "3b3d734a-491e-4e76-9aa1-af9999db94ab",
   "metadata": {},
   "outputs": [
    {
     "name": "stdout",
     "output_type": "stream",
     "text": [
      "0\n",
      "1\n",
      "2\n",
      "3\n",
      "4\n",
      "5\n",
      "6\n",
      "7\n",
      "8\n",
      "9\n"
     ]
    }
   ],
   "source": [
    "for i in range(10):  #list ke form me memory cunsumption high ho jata , generotor function is memory optimal function\n",
    "    print(i)"
   ]
  },
  {
   "cell_type": "code",
   "execution_count": 7,
   "id": "287aa73d-01e0-4667-96ec-a37cbaab1c30",
   "metadata": {},
   "outputs": [],
   "source": [
    "def test_fib(n):\n",
    "    a,b=0,1\n",
    "    for i in range(n):\n",
    "        yield a\n",
    "        a,b=b,a+b"
   ]
  },
  {
   "cell_type": "code",
   "execution_count": 8,
   "id": "7400bad0-4816-40b5-b279-09782ff2efdc",
   "metadata": {},
   "outputs": [
    {
     "data": {
      "text/plain": [
       "<generator object test_fib at 0x00000267B4945380>"
      ]
     },
     "execution_count": 8,
     "metadata": {},
     "output_type": "execute_result"
    }
   ],
   "source": [
    "test_fib(10)"
   ]
  },
  {
   "cell_type": "code",
   "execution_count": 9,
   "id": "4d721f2e-97b7-4e88-b9af-dd56d54c0948",
   "metadata": {},
   "outputs": [
    {
     "name": "stdout",
     "output_type": "stream",
     "text": [
      "0\n",
      "1\n",
      "1\n",
      "2\n",
      "3\n",
      "5\n",
      "8\n",
      "13\n",
      "21\n",
      "34\n"
     ]
    }
   ],
   "source": [
    "for i in test_fib(10):\n",
    "    print(i)"
   ]
  },
  {
   "cell_type": "code",
   "execution_count": 18,
   "id": "99609d9f-f205-4bb1-889f-8ee0b6cf0ce0",
   "metadata": {},
   "outputs": [],
   "source": [
    "def test_fib(n):\n",
    "    a,b=0,1\n",
    "    while True:\n",
    "        \n",
    "        yield a\n",
    "        a,b=b,a+b"
   ]
  },
  {
   "cell_type": "code",
   "execution_count": 19,
   "id": "69c4e1a1-fd4a-4d45-a051-6d9ee06514db",
   "metadata": {},
   "outputs": [],
   "source": [
    "fib=test_fib(30)"
   ]
  },
  {
   "cell_type": "code",
   "execution_count": 20,
   "id": "1a489af3-aab5-46db-80f7-f80bbdfab44a",
   "metadata": {},
   "outputs": [
    {
     "data": {
      "text/plain": [
       "<generator object test_fib at 0x00000267B4A8CC70>"
      ]
     },
     "execution_count": 20,
     "metadata": {},
     "output_type": "execute_result"
    }
   ],
   "source": [
    "fib"
   ]
  },
  {
   "cell_type": "code",
   "execution_count": 21,
   "id": "5f7fedcd-8b23-4f3b-b791-03dd639d6980",
   "metadata": {},
   "outputs": [
    {
     "name": "stdout",
     "output_type": "stream",
     "text": [
      "0\n",
      "1\n",
      "1\n",
      "2\n",
      "3\n",
      "5\n",
      "8\n",
      "13\n",
      "21\n",
      "34\n"
     ]
    }
   ],
   "source": [
    " for i in range(10):\n",
    "     print(next(fib))\n",
    "     "
   ]
  },
  {
   "cell_type": "code",
   "execution_count": 22,
   "id": "7798c898-753d-4e65-b684-d3bd05b91500",
   "metadata": {},
   "outputs": [
    {
     "name": "stdout",
     "output_type": "stream",
     "text": [
      "s\n",
      "u\n",
      "d\n",
      "h\n"
     ]
    }
   ],
   "source": [
    "s=\"sudh\"\n",
    "for i in s:\n",
    "    print(i)"
   ]
  },
  {
   "cell_type": "code",
   "execution_count": 29,
   "id": "9c971cd9-e959-4d77-8c46-de8299f39544",
   "metadata": {},
   "outputs": [
    {
     "ename": "TypeError",
     "evalue": "'str' object is not an iterator",
     "output_type": "error",
     "traceback": [
      "\u001b[1;31m---------------------------------------------------------------------------\u001b[0m",
      "\u001b[1;31mTypeError\u001b[0m                                 Traceback (most recent call last)",
      "Cell \u001b[1;32mIn[29], line 1\u001b[0m\n\u001b[1;32m----> 1\u001b[0m \u001b[38;5;28mnext\u001b[39m(s)\n",
      "\u001b[1;31mTypeError\u001b[0m: 'str' object is not an iterator"
     ]
    }
   ],
   "source": [
    "next(s) ## string is not iteratior which can not be iterate  string se for loop se data nahi nikal sakte to do so string should be act \n",
    "## as iterator to do so first it should pass to iter function"
   ]
  },
  {
   "cell_type": "code",
   "execution_count": 30,
   "id": "08f39b6a-28b9-408f-9471-3c3669b4e891",
   "metadata": {},
   "outputs": [],
   "source": [
    "s1=iter(s)"
   ]
  },
  {
   "cell_type": "code",
   "execution_count": 31,
   "id": "986a0c38-d563-4122-b5e5-7b092ff7e8fd",
   "metadata": {},
   "outputs": [
    {
     "data": {
      "text/plain": [
       "'s'"
      ]
     },
     "execution_count": 31,
     "metadata": {},
     "output_type": "execute_result"
    }
   ],
   "source": [
    "next(s1)"
   ]
  },
  {
   "cell_type": "code",
   "execution_count": 32,
   "id": "17578b0e-a9ce-4c6c-a3af-106c20fa96f2",
   "metadata": {},
   "outputs": [
    {
     "data": {
      "text/plain": [
       "'u'"
      ]
     },
     "execution_count": 32,
     "metadata": {},
     "output_type": "execute_result"
    }
   ],
   "source": [
    "next(s1)"
   ]
  },
  {
   "cell_type": "code",
   "execution_count": 35,
   "id": "3a6a9af8-eae4-4010-b504-87111855659d",
   "metadata": {},
   "outputs": [
    {
     "ename": "TypeError",
     "evalue": "'int' object is not iterable",
     "output_type": "error",
     "traceback": [
      "\u001b[1;31m---------------------------------------------------------------------------\u001b[0m",
      "\u001b[1;31mTypeError\u001b[0m                                 Traceback (most recent call last)",
      "Cell \u001b[1;32mIn[35], line 1\u001b[0m\n\u001b[1;32m----> 1\u001b[0m \u001b[38;5;28miter\u001b[39m(\u001b[38;5;241m45\u001b[39m)\n",
      "\u001b[1;31mTypeError\u001b[0m: 'int' object is not iterable"
     ]
    }
   ],
   "source": [
    "iter(45) \n",
    "## concept of iterator and interable  sting can be interable but int is not iterable by using iter function"
   ]
  },
  {
   "cell_type": "code",
   "execution_count": 36,
   "id": "423e3259-eaa7-4992-8eed-b139f54bba5e",
   "metadata": {},
   "outputs": [],
   "source": [
    "def count_test(n):\n",
    "    count =1\n",
    "    while count <n:\n",
    "        yield count\n",
    "        count =count+1"
   ]
  },
  {
   "cell_type": "code",
   "execution_count": 39,
   "id": "53ea88c0-c1de-4773-bdfc-eaf5a1ae0db6",
   "metadata": {},
   "outputs": [],
   "source": [
    "c=count_test(6)"
   ]
  },
  {
   "cell_type": "code",
   "execution_count": 40,
   "id": "1ffdd88a-a7e5-475b-8184-d18d91477df1",
   "metadata": {},
   "outputs": [
    {
     "name": "stdout",
     "output_type": "stream",
     "text": [
      "1\n",
      "2\n",
      "3\n",
      "4\n",
      "5\n"
     ]
    }
   ],
   "source": [
    "for i in c:\n",
    "    print(i)"
   ]
  },
  {
   "cell_type": "code",
   "execution_count": 1,
   "id": "94822aee-a851-4b45-962b-d954b63a8909",
   "metadata": {},
   "outputs": [
    {
     "ename": "IndentationError",
     "evalue": "unexpected indent (2816219825.py, line 2)",
     "output_type": "error",
     "traceback": [
      "\u001b[1;36m  Cell \u001b[1;32mIn[1], line 2\u001b[1;36m\u001b[0m\n\u001b[1;33m    n=3\u001b[0m\n\u001b[1;37m    ^\u001b[0m\n\u001b[1;31mIndentationError\u001b[0m\u001b[1;31m:\u001b[0m unexpected indent\n"
     ]
    }
   ],
   "source": [
    "##Lamdafunction\n",
    " n=3\n",
    "p=7\n"
   ]
  },
  {
   "cell_type": "code",
   "execution_count": 2,
   "id": "132d864d-e0e3-4635-be4d-6ef0d3b836d0",
   "metadata": {},
   "outputs": [],
   "source": [
    "n=3\n",
    "p=9"
   ]
  },
  {
   "cell_type": "code",
   "execution_count": 3,
   "id": "7af5d198-db99-4482-a01f-2662dc95f178",
   "metadata": {},
   "outputs": [],
   "source": [
    "def test(n,p):\n",
    "    return n**p\n",
    "    "
   ]
  },
  {
   "cell_type": "code",
   "execution_count": 4,
   "id": "21cfeac7-a509-4ef8-a693-07b8f95aca70",
   "metadata": {},
   "outputs": [
    {
     "data": {
      "text/plain": [
       "256"
      ]
     },
     "execution_count": 4,
     "metadata": {},
     "output_type": "execute_result"
    }
   ],
   "source": [
    "test(4,4)"
   ]
  },
  {
   "cell_type": "code",
   "execution_count": 9,
   "id": "3776fa6c-3780-4425-aaa4-89536853420d",
   "metadata": {},
   "outputs": [],
   "source": [
    "a=lambda n,p:n**p ##lambda function is known as lambda funtion , and its anonymous function "
   ]
  },
  {
   "cell_type": "code",
   "execution_count": 10,
   "id": "19e498af-c8f9-4172-9a65-76fb32ad2aba",
   "metadata": {},
   "outputs": [
    {
     "data": {
      "text/plain": [
       "<function __main__.<lambda>(n, p)>"
      ]
     },
     "execution_count": 10,
     "metadata": {},
     "output_type": "execute_result"
    }
   ],
   "source": [
    "a"
   ]
  },
  {
   "cell_type": "raw",
   "id": "dafc6318-4165-465a-a8b7-ecc1953bf365",
   "metadata": {},
   "source": [
    "print(a)"
   ]
  },
  {
   "cell_type": "code",
   "execution_count": 11,
   "id": "a39d1982-6113-43e7-b1a0-d1678a3fb781",
   "metadata": {},
   "outputs": [
    {
     "data": {
      "text/plain": [
       "16384"
      ]
     },
     "execution_count": 11,
     "metadata": {},
     "output_type": "execute_result"
    }
   ],
   "source": [
    "a(4,7)"
   ]
  },
  {
   "cell_type": "code",
   "execution_count": 12,
   "id": "5363078d-cfcb-4a5f-b32f-d71bc38cbfe9",
   "metadata": {},
   "outputs": [],
   "source": [
    "add=lambda x,y:x+y"
   ]
  },
  {
   "cell_type": "code",
   "execution_count": 13,
   "id": "25f76c12-5d55-47d4-9bf5-b640ad6e3752",
   "metadata": {},
   "outputs": [
    {
     "data": {
      "text/plain": [
       "8"
      ]
     },
     "execution_count": 13,
     "metadata": {},
     "output_type": "execute_result"
    }
   ],
   "source": [
    "add(3,5)"
   ]
  },
  {
   "cell_type": "code",
   "execution_count": 14,
   "id": "8f5e5d64-7511-402b-a479-c2acb2648012",
   "metadata": {},
   "outputs": [],
   "source": [
    "c_to_f=lambda c:(9/5)*c+32"
   ]
  },
  {
   "cell_type": "code",
   "execution_count": 15,
   "id": "95502c6d-c19e-470f-b72c-d0740acd5fa9",
   "metadata": {},
   "outputs": [
    {
     "data": {
      "text/plain": [
       "86.0"
      ]
     },
     "execution_count": 15,
     "metadata": {},
     "output_type": "execute_result"
    }
   ],
   "source": [
    "c_to_f(30)"
   ]
  },
  {
   "cell_type": "code",
   "execution_count": 16,
   "id": "b88bb702-67c6-4c92-86dc-b06189e7d594",
   "metadata": {},
   "outputs": [],
   "source": [
    "finding_max=lambda x,y:x if x>y else y"
   ]
  },
  {
   "cell_type": "code",
   "execution_count": 17,
   "id": "85219b28-06ce-474e-ba09-ebf20ddc5003",
   "metadata": {},
   "outputs": [
    {
     "data": {
      "text/plain": [
       "90"
      ]
     },
     "execution_count": 17,
     "metadata": {},
     "output_type": "execute_result"
    }
   ],
   "source": [
    "finding_max(67,90)"
   ]
  },
  {
   "cell_type": "code",
   "execution_count": 18,
   "id": "0419b4d4-b2e6-4049-b948-78be792f7731",
   "metadata": {},
   "outputs": [],
   "source": [
    "s=\"Deepakyadav\""
   ]
  },
  {
   "cell_type": "code",
   "execution_count": 19,
   "id": "e7956f59-1670-4d75-9c10-410bc486d4c2",
   "metadata": {},
   "outputs": [],
   "source": [
    "find_len=lambda s:len(s)"
   ]
  },
  {
   "cell_type": "code",
   "execution_count": 20,
   "id": "95e38381-b115-41eb-b94e-29af2c3fb039",
   "metadata": {},
   "outputs": [
    {
     "data": {
      "text/plain": [
       "11"
      ]
     },
     "execution_count": 20,
     "metadata": {},
     "output_type": "execute_result"
    }
   ],
   "source": [
    "find_len(s)"
   ]
  },
  {
   "cell_type": "code",
   "execution_count": 23,
   "id": "5dc27db2-31de-4b60-bded-fc4edaf8902b",
   "metadata": {},
   "outputs": [],
   "source": [
    "#Map reduce& Filter function\n",
    "l=[2,3,4,5,6]"
   ]
  },
  {
   "cell_type": "code",
   "execution_count": 24,
   "id": "9ffd61be-99f7-4b10-a391-43692eb55457",
   "metadata": {},
   "outputs": [],
   "source": [
    "def test2(l):\n",
    "    l1=[]\n",
    "    for i in l:\n",
    "        l1.append(i**2)\n",
    "    return l1\n",
    "    "
   ]
  },
  {
   "cell_type": "code",
   "execution_count": 25,
   "id": "c01c1302-7efc-4ed9-ba32-e2164781c7c1",
   "metadata": {},
   "outputs": [
    {
     "data": {
      "text/plain": [
       "[4, 9, 16, 25, 36]"
      ]
     },
     "execution_count": 25,
     "metadata": {},
     "output_type": "execute_result"
    }
   ],
   "source": [
    "test2(l)"
   ]
  },
  {
   "cell_type": "code",
   "execution_count": 26,
   "id": "c7910f88-71f7-4f1c-91d0-eecd14841abb",
   "metadata": {},
   "outputs": [],
   "source": [
    "#map() #it will map each element of list with another funtion (square() funtion etc )\n",
    "def sq(x):\n",
    "    return x**2"
   ]
  },
  {
   "cell_type": "code",
   "execution_count": 27,
   "id": "96566580-80d8-4989-bec3-2bb495f4cd58",
   "metadata": {},
   "outputs": [
    {
     "data": {
      "text/plain": [
       "[4, 9, 16, 25, 36]"
      ]
     },
     "execution_count": 27,
     "metadata": {},
     "output_type": "execute_result"
    }
   ],
   "source": [
    "list(map(sq,l))"
   ]
  },
  {
   "cell_type": "code",
   "execution_count": 28,
   "id": "4fab80ce-2b81-4b9a-acdc-ed570d20ba2e",
   "metadata": {},
   "outputs": [
    {
     "data": {
      "text/plain": [
       "[4, 9, 16, 25, 36]"
      ]
     },
     "execution_count": 28,
     "metadata": {},
     "output_type": "execute_result"
    }
   ],
   "source": [
    "list(map(lambda x:x**2,l))"
   ]
  },
  {
   "cell_type": "code",
   "execution_count": 30,
   "id": "deeaa7d7-c10d-42fc-904a-10bb7ba3ece4",
   "metadata": {},
   "outputs": [
    {
     "data": {
      "text/plain": [
       "[4, 7, 10, 41, 12]"
      ]
     },
     "execution_count": 30,
     "metadata": {},
     "output_type": "execute_result"
    }
   ],
   "source": [
    "l1=[1,2,4,35,5] \n",
    "l2=[3,5,6,6,7]\n",
    "\n",
    "list(map(lambda x,y:x+y,l1,l2))"
   ]
  },
  {
   "cell_type": "code",
   "execution_count": 31,
   "id": "0c9b6980-8081-46eb-a2c4-c33629585482",
   "metadata": {},
   "outputs": [],
   "source": [
    "def add(x,y):\n",
    "    return x+y"
   ]
  },
  {
   "cell_type": "code",
   "execution_count": 32,
   "id": "ddcf2b7c-67c4-418d-83c0-64a8ea756383",
   "metadata": {},
   "outputs": [
    {
     "data": {
      "text/plain": [
       "98"
      ]
     },
     "execution_count": 32,
     "metadata": {},
     "output_type": "execute_result"
    }
   ],
   "source": [
    "add(90,8)"
   ]
  },
  {
   "cell_type": "code",
   "execution_count": 39,
   "id": "2de8f169-9567-47ac-b6bf-284620e40285",
   "metadata": {},
   "outputs": [
    {
     "data": {
      "text/plain": [
       "[4, 7, 10, 41, 12]"
      ]
     },
     "execution_count": 39,
     "metadata": {},
     "output_type": "execute_result"
    }
   ],
   "source": [
    "list(map(add,l1,l2))"
   ]
  },
  {
   "cell_type": "code",
   "execution_count": 40,
   "id": "cd753a39-5584-486c-ae07-4085c275cb78",
   "metadata": {},
   "outputs": [
    {
     "data": {
      "text/plain": [
       "['P', 'W', 'S', 'K', 'I', 'L', 'L', 'S']"
      ]
     },
     "execution_count": 40,
     "metadata": {},
     "output_type": "execute_result"
    }
   ],
   "source": [
    "s=\"pwskills\"\n",
    "list(map(lambda s:s.upper(),s))"
   ]
  },
  {
   "cell_type": "markdown",
   "id": "af0f6f02-fac7-4037-b8f4-ffaf2ecdd038",
   "metadata": {},
   "source": [
    "from functools import reduce"
   ]
  },
  {
   "cell_type": "code",
   "execution_count": 41,
   "id": "818152a2-a262-4fc5-b35b-6da2c7d3c654",
   "metadata": {},
   "outputs": [],
   "source": [
    "from functools import reduce \n",
    "l=[1,2,3,4,5,6,7]"
   ]
  },
  {
   "cell_type": "code",
   "execution_count": 42,
   "id": "e5b15464-dc35-4d05-b69d-903d708ad652",
   "metadata": {},
   "outputs": [
    {
     "data": {
      "text/plain": [
       "[1, 2, 3, 4, 5, 6, 7]"
      ]
     },
     "execution_count": 42,
     "metadata": {},
     "output_type": "execute_result"
    }
   ],
   "source": [
    "l"
   ]
  },
  {
   "cell_type": "code",
   "execution_count": 43,
   "id": "977f168e-127b-4012-9b4a-9c0a97c74019",
   "metadata": {},
   "outputs": [
    {
     "data": {
      "text/plain": [
       "28"
      ]
     },
     "execution_count": 43,
     "metadata": {},
     "output_type": "execute_result"
    }
   ],
   "source": [
    "reduce(lambda x,y:x+y,l)"
   ]
  },
  {
   "cell_type": "code",
   "execution_count": 44,
   "id": "731985db-c1c2-47c0-9a8d-0426e90b088f",
   "metadata": {},
   "outputs": [
    {
     "name": "stdout",
     "output_type": "stream",
     "text": [
      "25\n"
     ]
    }
   ],
   "source": [
    "\n",
    "\"\"\"\n",
    "The reduce function in Python is part of the functools module. It applies a function cumulatively to the\n",
    "items of an iterable (e.g., a list) from left to right, reducing the iterable to a single value.\n",
    "\n",
    "syntax:\n",
    "from functools import reduce\n",
    "reduce(function, iterable[, initializer])\n",
    "\n",
    "\n",
    "function: A function that takes two arguments and returns a single value.\n",
    "iterable: An iterable whose elements will be processed.\n",
    "initializer (optional): A starting value that is passed to the function as the first argument along with the first item of the iterable.\"\"\"\n",
    "from functools import reduce\n",
    "\n",
    "numbers = [1, 2, 3, 4, 5]\n",
    "result = reduce(lambda x, y: x + y, numbers, 10)\n",
    "print(result)  # Output: 25\n"
   ]
  },
  {
   "cell_type": "code",
   "execution_count": 45,
   "id": "4dc180b2-7e1a-4f5a-8a5f-0cca13ff3d95",
   "metadata": {},
   "outputs": [
    {
     "name": "stdout",
     "output_type": "stream",
     "text": [
      "120\n"
     ]
    }
   ],
   "source": [
    "from functools import reduce\n",
    "\n",
    "numbers = [1, 2, 3, 4, 5]\n",
    "result = reduce(lambda x, y: x * y, numbers)\n",
    "print(result)  # Output: 120\n"
   ]
  },
  {
   "cell_type": "code",
   "execution_count": 46,
   "id": "c16fca02-7cd6-416a-9ea6-68f2c49883cc",
   "metadata": {},
   "outputs": [
    {
     "name": "stdout",
     "output_type": "stream",
     "text": [
      "25\n"
     ]
    }
   ],
   "source": [
    "#here the initilizer is 10 so first element of list consider as the 10 after that operation going to be perform to remaining element of the \n",
    "#element of the list \n",
    "\n",
    "from functools import reduce\n",
    "\n",
    "numbers = [1, 2, 3, 4, 5]\n",
    "result = reduce(lambda x, y: x + y, numbers, 10)\n",
    "print(result)  # Output: 25\n"
   ]
  },
  {
   "cell_type": "code",
   "execution_count": 50,
   "id": "8969d9f4-183b-4788-af5d-30b40d9ad3cf",
   "metadata": {},
   "outputs": [
    {
     "name": "stdout",
     "output_type": "stream",
     "text": [
      "330803000\n"
     ]
    }
   ],
   "source": [
    "from functools import reduce\n",
    "\n",
    "number1=[3355,34,5,58]\n",
    "result1=reduce(lambda x,y:x*y,number1,10)\n",
    "print(result1)\n"
   ]
  },
  {
   "cell_type": "code",
   "execution_count": 51,
   "id": "8171968d-47b5-4bf6-a496-68ce3b909c7d",
   "metadata": {},
   "outputs": [
    {
     "data": {
      "text/plain": [
       "3355"
      ]
     },
     "execution_count": 51,
     "metadata": {},
     "output_type": "execute_result"
    }
   ],
   "source": [
    "reduce(lambda x,y:x if x>y else y,number1)"
   ]
  },
  {
   "cell_type": "code",
   "execution_count": 53,
   "id": "86336d74-45e7-4626-9e1e-7716174b50f8",
   "metadata": {},
   "outputs": [
    {
     "data": {
      "text/plain": [
       "[34, 58]"
      ]
     },
     "execution_count": 53,
     "metadata": {},
     "output_type": "execute_result"
    }
   ],
   "source": [
    "\"\"\"The filter function in Python is used to filter elements from an iterable based on a condition specified by a function. \n",
    "It constructs a new iterable containing only the elements for which the function returns True.\n",
    "\n",
    "syntax:\n",
    "filter(function, iterable)\n",
    "\n",
    "\n",
    "\"\"\"\n",
    "\n",
    "list(filter(lambda x: x%2==0,number1))"
   ]
  },
  {
   "cell_type": "code",
   "execution_count": 54,
   "id": "ebda324a-a772-446d-ae35-0e6d9d02c009",
   "metadata": {},
   "outputs": [
    {
     "data": {
      "text/plain": [
       "[3355, 5]"
      ]
     },
     "execution_count": 54,
     "metadata": {},
     "output_type": "execute_result"
    }
   ],
   "source": [
    "list(filter(lambda x:x%2!=0,number1))"
   ]
  },
  {
   "cell_type": "code",
   "execution_count": 55,
   "id": "0da83c77-c8e0-497d-ad1c-ab6b7e930355",
   "metadata": {},
   "outputs": [],
   "source": [
    "number3=[-1,-45,4,5,67,7,-90]"
   ]
  },
  {
   "cell_type": "code",
   "execution_count": 56,
   "id": "136a2019-53f1-4fa3-b37f-db7aeaf462c5",
   "metadata": {},
   "outputs": [
    {
     "data": {
      "text/plain": [
       "[-1, -45, -90]"
      ]
     },
     "execution_count": 56,
     "metadata": {},
     "output_type": "execute_result"
    }
   ],
   "source": [
    "list(filter(lambda x:x<0,number3))"
   ]
  },
  {
   "cell_type": "code",
   "execution_count": 57,
   "id": "3d266319-3720-4763-a400-35c092454365",
   "metadata": {},
   "outputs": [],
   "source": [
    "l2=[\"yadav\",\"deepak\",\"Mumbai\",\"India\",\"helloworld\"]\n"
   ]
  },
  {
   "cell_type": "code",
   "execution_count": 58,
   "id": "54c82d50-947f-4bce-8e0a-5be5c748956c",
   "metadata": {},
   "outputs": [
    {
     "data": {
      "text/plain": [
       "['yadav', 'India']"
      ]
     },
     "execution_count": 58,
     "metadata": {},
     "output_type": "execute_result"
    }
   ],
   "source": [
    "list(filter(lambda x:len(x)<6,l2))"
   ]
  },
  {
   "cell_type": "code",
   "execution_count": null,
   "id": "2c1dfd29-c3fe-4412-8e41-e8514a39aa81",
   "metadata": {},
   "outputs": [],
   "source": []
  }
 ],
 "metadata": {
  "kernelspec": {
   "display_name": "Python 3 (ipykernel)",
   "language": "python",
   "name": "python3"
  },
  "language_info": {
   "codemirror_mode": {
    "name": "ipython",
    "version": 3
   },
   "file_extension": ".py",
   "mimetype": "text/x-python",
   "name": "python",
   "nbconvert_exporter": "python",
   "pygments_lexer": "ipython3",
   "version": "3.12.7"
  }
 },
 "nbformat": 4,
 "nbformat_minor": 5
}
