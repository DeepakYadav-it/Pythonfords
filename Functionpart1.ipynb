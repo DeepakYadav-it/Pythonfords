{
 "cells": [
  {
   "cell_type": "code",
   "execution_count": 1,
   "id": "4e2116a6-7389-433c-abc5-8005a6489f4b",
   "metadata": {},
   "outputs": [
    {
     "name": "stdout",
     "output_type": "stream",
     "text": [
      "Hello world\n"
     ]
    }
   ],
   "source": [
    "#fuction is block of code which can be written anycorner of the program ,and also can be called mutiple  times \n",
    "print(\"Hello world\")"
   ]
  },
  {
   "cell_type": "code",
   "execution_count": 2,
   "id": "062078c9-ef2e-41ec-ad6a-196b94ce3b4b",
   "metadata": {},
   "outputs": [],
   "source": [
    "l=[20,23,45,55]"
   ]
  },
  {
   "cell_type": "code",
   "execution_count": 3,
   "id": "70b375ef-be3c-4e6a-bd19-60ec57dfbfea",
   "metadata": {},
   "outputs": [
    {
     "name": "stdout",
     "output_type": "stream",
     "text": [
      "[20, 23, 45, 55]\n"
     ]
    }
   ],
   "source": [
    "print(l)"
   ]
  },
  {
   "cell_type": "code",
   "execution_count": 4,
   "id": "796d944c-78b8-46f6-85cf-a4ef50f74721",
   "metadata": {},
   "outputs": [
    {
     "data": {
      "text/plain": [
       "4"
      ]
     },
     "execution_count": 4,
     "metadata": {},
     "output_type": "execute_result"
    }
   ],
   "source": [
    "len(l)"
   ]
  },
  {
   "cell_type": "code",
   "execution_count": 5,
   "id": "ad3f4b65-4045-4c87-88c5-aa90d3e9e117",
   "metadata": {},
   "outputs": [],
   "source": [
    "#function declaration , function innitilization\n",
    "def test():\n",
    "    print(\"my first funtion\")\n",
    "    "
   ]
  },
  {
   "cell_type": "code",
   "execution_count": 6,
   "id": "fe0243dd-2232-40e8-84fc-843c6bbcc849",
   "metadata": {},
   "outputs": [
    {
     "name": "stdout",
     "output_type": "stream",
     "text": [
      "my first funtion\n"
     ]
    }
   ],
   "source": [
    "test()"
   ]
  },
  {
   "cell_type": "code",
   "execution_count": 7,
   "id": "01fed2bc-96af-4127-9580-69de6d99d346",
   "metadata": {},
   "outputs": [
    {
     "name": "stdout",
     "output_type": "stream",
     "text": [
      "my first funtion\n"
     ]
    }
   ],
   "source": [
    "test()"
   ]
  },
  {
   "cell_type": "code",
   "execution_count": 8,
   "id": "b9cf921e-f03b-4e83-9af2-ea6efcf919e5",
   "metadata": {},
   "outputs": [],
   "source": [
    "def test2():\n",
    "    return \"returning value \"\n"
   ]
  },
  {
   "cell_type": "code",
   "execution_count": 9,
   "id": "09647813-e66c-4463-913b-e9b45a45830b",
   "metadata": {},
   "outputs": [
    {
     "data": {
      "text/plain": [
       "'returning value '"
      ]
     },
     "execution_count": 9,
     "metadata": {},
     "output_type": "execute_result"
    }
   ],
   "source": [
    "test2()"
   ]
  },
  {
   "cell_type": "code",
   "execution_count": 10,
   "id": "decbbce1-cdc3-40a3-b141-ba98f1ed1b5e",
   "metadata": {},
   "outputs": [
    {
     "data": {
      "text/plain": [
       "'returning value deepak'"
      ]
     },
     "execution_count": 10,
     "metadata": {},
     "output_type": "execute_result"
    }
   ],
   "source": [
    "test2()+\"deepak\""
   ]
  },
  {
   "cell_type": "code",
   "execution_count": 11,
   "id": "b4efb674-4620-4547-9025-42ec34f35981",
   "metadata": {},
   "outputs": [],
   "source": [
    "def test3():\n",
    "    return \"deepak\",1,34,[2,3,5,7]"
   ]
  },
  {
   "cell_type": "code",
   "execution_count": 12,
   "id": "f70ae3c7-d630-408e-8010-e96a4b2f7a66",
   "metadata": {},
   "outputs": [
    {
     "data": {
      "text/plain": [
       "('deepak', 1, 34, [2, 3, 5, 7])"
      ]
     },
     "execution_count": 12,
     "metadata": {},
     "output_type": "execute_result"
    }
   ],
   "source": [
    "test3()"
   ]
  },
  {
   "cell_type": "code",
   "execution_count": 13,
   "id": "2d58cb23-8313-432b-b2f9-d0c1fd966a2c",
   "metadata": {},
   "outputs": [],
   "source": [
    "a,b,c,d=test3()"
   ]
  },
  {
   "cell_type": "code",
   "execution_count": 14,
   "id": "41036274-1e6c-44ee-a302-edb4dbe211c6",
   "metadata": {},
   "outputs": [
    {
     "data": {
      "text/plain": [
       "'deepak'"
      ]
     },
     "execution_count": 14,
     "metadata": {},
     "output_type": "execute_result"
    }
   ],
   "source": [
    "a\n"
   ]
  },
  {
   "cell_type": "code",
   "execution_count": 15,
   "id": "c1b8e5f6-0acf-419a-a4eb-0236786ec382",
   "metadata": {},
   "outputs": [
    {
     "data": {
      "text/plain": [
       "1"
      ]
     },
     "execution_count": 15,
     "metadata": {},
     "output_type": "execute_result"
    }
   ],
   "source": [
    "b"
   ]
  },
  {
   "cell_type": "code",
   "execution_count": 16,
   "id": "fc131ece-87a4-4ed5-8bc5-a28729edf587",
   "metadata": {},
   "outputs": [
    {
     "data": {
      "text/plain": [
       "34"
      ]
     },
     "execution_count": 16,
     "metadata": {},
     "output_type": "execute_result"
    }
   ],
   "source": [
    "c"
   ]
  },
  {
   "cell_type": "code",
   "execution_count": 17,
   "id": "ebcdee48-6058-4396-8b5e-a1b9ae914db7",
   "metadata": {},
   "outputs": [
    {
     "data": {
      "text/plain": [
       "[2, 3, 5, 7]"
      ]
     },
     "execution_count": 17,
     "metadata": {},
     "output_type": "execute_result"
    }
   ],
   "source": [
    "d"
   ]
  },
  {
   "cell_type": "code",
   "execution_count": 18,
   "id": "fc30914d-2d8f-4f3e-ab88-fe8aacf5ad24",
   "metadata": {},
   "outputs": [],
   "source": [
    "def test4():\n",
    "    a=45+9/5\n",
    "    return a"
   ]
  },
  {
   "cell_type": "code",
   "execution_count": 19,
   "id": "bf4b498f-037f-436f-8b40-0305f506158e",
   "metadata": {},
   "outputs": [
    {
     "data": {
      "text/plain": [
       "46.8"
      ]
     },
     "execution_count": 19,
     "metadata": {},
     "output_type": "execute_result"
    }
   ],
   "source": [
    "test4()"
   ]
  },
  {
   "cell_type": "code",
   "execution_count": 20,
   "id": "7f87303c-6890-48c8-9551-965229dc377a",
   "metadata": {},
   "outputs": [],
   "source": [
    "d=test4()"
   ]
  },
  {
   "cell_type": "code",
   "execution_count": 21,
   "id": "213aeabd-d3ce-490b-aba2-d87d73482602",
   "metadata": {},
   "outputs": [
    {
     "data": {
      "text/plain": [
       "46.8"
      ]
     },
     "execution_count": 21,
     "metadata": {},
     "output_type": "execute_result"
    }
   ],
   "source": [
    "d"
   ]
  },
  {
   "cell_type": "code",
   "execution_count": 22,
   "id": "0a35f357-9fe4-43a6-9ea8-3d974deee45f",
   "metadata": {},
   "outputs": [],
   "source": [
    "def test5(a,b,c):\n",
    "    d=a+b/c\n",
    "    return d"
   ]
  },
  {
   "cell_type": "code",
   "execution_count": 23,
   "id": "3567c6bc-51d6-4c02-b281-526f22ac236f",
   "metadata": {},
   "outputs": [
    {
     "name": "stdout",
     "output_type": "stream",
     "text": [
      "my first funtion\n"
     ]
    }
   ],
   "source": [
    "test()"
   ]
  },
  {
   "cell_type": "code",
   "execution_count": 28,
   "id": "6bdddb14-cf20-4d9c-bd6f-f4874634e81f",
   "metadata": {},
   "outputs": [
    {
     "data": {
      "text/plain": [
       "46.666666666666664"
      ]
     },
     "execution_count": 28,
     "metadata": {},
     "output_type": "execute_result"
    }
   ],
   "source": [
    "test5(45,5,3)"
   ]
  },
  {
   "cell_type": "code",
   "execution_count": 27,
   "id": "6b2c8e11-0438-4b49-a562-4ce71e0216c3",
   "metadata": {},
   "outputs": [
    {
     "data": {
      "text/plain": [
       "38.5"
      ]
     },
     "execution_count": 27,
     "metadata": {},
     "output_type": "execute_result"
    }
   ],
   "source": [
    "test5(34,45,10)"
   ]
  },
  {
   "cell_type": "code",
   "execution_count": 29,
   "id": "a31a2789-c0ba-4bb3-89bc-9bc79c51b2c3",
   "metadata": {},
   "outputs": [
    {
     "data": {
      "text/plain": [
       "<function __main__.test5(a, b, c)>"
      ]
     },
     "execution_count": 29,
     "metadata": {},
     "output_type": "execute_result"
    }
   ],
   "source": [
    "test5"
   ]
  },
  {
   "cell_type": "code",
   "execution_count": 30,
   "id": "6372fb79-b735-41d2-88ae-86c84ddade18",
   "metadata": {},
   "outputs": [],
   "source": [
    "def test6(a,b):\n",
    "    return a+b"
   ]
  },
  {
   "cell_type": "code",
   "execution_count": 31,
   "id": "48392897-ea7b-493c-a0aa-7b1f1a443f05",
   "metadata": {},
   "outputs": [
    {
     "data": {
      "text/plain": [
       "90"
      ]
     },
     "execution_count": 31,
     "metadata": {},
     "output_type": "execute_result"
    }
   ],
   "source": [
    "test6(34,56)"
   ]
  },
  {
   "cell_type": "code",
   "execution_count": 32,
   "id": "32ec19a8-bd20-49b8-ac53-48ca19d28fc5",
   "metadata": {},
   "outputs": [
    {
     "data": {
      "text/plain": [
       "'DeepakYadav'"
      ]
     },
     "execution_count": 32,
     "metadata": {},
     "output_type": "execute_result"
    }
   ],
   "source": [
    "test6(\"Deepak\",\"Yadav\")"
   ]
  },
  {
   "cell_type": "code",
   "execution_count": 33,
   "id": "3aad10db-b9a4-4fb0-807c-317b4568ef3a",
   "metadata": {},
   "outputs": [
    {
     "data": {
      "text/plain": [
       "[1, 2, 34, 5, 10, 45, 6]"
      ]
     },
     "execution_count": 33,
     "metadata": {},
     "output_type": "execute_result"
    }
   ],
   "source": [
    "test6([1,2,34,5],[10,45,6])"
   ]
  },
  {
   "cell_type": "code",
   "execution_count": 34,
   "id": "11525600-d434-40fe-80bb-b5b81e3027fe",
   "metadata": {},
   "outputs": [],
   "source": [
    "l=[1,23,4,5,6,4,\"deepak\",\"yadav\",[1,2,3,4,5]]"
   ]
  },
  {
   "cell_type": "code",
   "execution_count": 35,
   "id": "d8e1ba66-f4f0-4ede-86b2-0c65b91f792b",
   "metadata": {},
   "outputs": [],
   "source": [
    "l1=[]\n",
    "for i in l:\n",
    "    if type(i)==int or  type(i)==float:\n",
    "        l1.append(i)"
   ]
  },
  {
   "cell_type": "code",
   "execution_count": 36,
   "id": "2640ee6c-c620-4b7b-b5d7-8e76af598aae",
   "metadata": {},
   "outputs": [
    {
     "data": {
      "text/plain": [
       "[1, 23, 4, 5, 6, 4]"
      ]
     },
     "execution_count": 36,
     "metadata": {},
     "output_type": "execute_result"
    }
   ],
   "source": [
    "l1"
   ]
  },
  {
   "cell_type": "code",
   "execution_count": 39,
   "id": "d59f20e0-b417-4572-b91d-6604e95a56cb",
   "metadata": {},
   "outputs": [],
   "source": [
    "def test7(l):\n",
    "    l1=[]\n",
    "    for i in l:\n",
    "        if type(i)==int or  type(i)==float:\n",
    "            l1.append(i)\n",
    "        return l1\n",
    "    "
   ]
  },
  {
   "cell_type": "code",
   "execution_count": 40,
   "id": "6e54b1df-155f-440a-a402-1b91057cf1a1",
   "metadata": {},
   "outputs": [
    {
     "data": {
      "text/plain": [
       "[1]"
      ]
     },
     "execution_count": 40,
     "metadata": {},
     "output_type": "execute_result"
    }
   ],
   "source": [
    "test7(l)"
   ]
  },
  {
   "cell_type": "code",
   "execution_count": 41,
   "id": "57051810-5f59-4144-b2d1-0b8ed386149d",
   "metadata": {},
   "outputs": [
    {
     "data": {
      "text/plain": [
       "[1]"
      ]
     },
     "execution_count": 41,
     "metadata": {},
     "output_type": "execute_result"
    }
   ],
   "source": [
    "test7(l)"
   ]
  },
  {
   "cell_type": "code",
   "execution_count": 42,
   "id": "34906770-ba47-4fee-b496-aebb0a5f01bd",
   "metadata": {},
   "outputs": [
    {
     "data": {
      "text/plain": [
       "[1]"
      ]
     },
     "execution_count": 42,
     "metadata": {},
     "output_type": "execute_result"
    }
   ],
   "source": [
    "test7(l1)"
   ]
  },
  {
   "cell_type": "code",
   "execution_count": 43,
   "id": "011be688-3b5d-4141-86e8-3fb557966022",
   "metadata": {},
   "outputs": [
    {
     "data": {
      "text/plain": [
       "[1, 23, 4, 5, 6, 4, 'deepak', 'yadav', [1, 2, 3, 4, 5]]"
      ]
     },
     "execution_count": 43,
     "metadata": {},
     "output_type": "execute_result"
    }
   ],
   "source": [
    "l"
   ]
  },
  {
   "cell_type": "code",
   "execution_count": 44,
   "id": "c6794f23-1ddc-4045-a82b-5cb3caaaf905",
   "metadata": {},
   "outputs": [
    {
     "data": {
      "text/plain": [
       "[1]"
      ]
     },
     "execution_count": 44,
     "metadata": {},
     "output_type": "execute_result"
    }
   ],
   "source": [
    "test7(l)"
   ]
  },
  {
   "cell_type": "code",
   "execution_count": 45,
   "id": "4e66539d-1e8d-450c-980c-746dd348e76d",
   "metadata": {},
   "outputs": [],
   "source": [
    "def test8(a):\n",
    "    l=[]\n",
    "    for i in a:\n",
    "        if type(i)==list:\n",
    "            for j in i:\n",
    "                l.append(j)\n",
    "        else:\n",
    "            if type(i)==int or type(i)==float:\n",
    "                l.append(i)\n",
    "    return l\n",
    "                "
   ]
  },
  {
   "cell_type": "code",
   "execution_count": 46,
   "id": "a641fbce-0dd5-4e65-a041-c5b98786ddc3",
   "metadata": {},
   "outputs": [
    {
     "data": {
      "text/plain": [
       "[1, 23, 4, 5, 6, 4, 1, 2, 3, 4, 5]"
      ]
     },
     "execution_count": 46,
     "metadata": {},
     "output_type": "execute_result"
    }
   ],
   "source": [
    "test8(l)"
   ]
  },
  {
   "cell_type": "code",
   "execution_count": 47,
   "id": "80511d4c-8b25-46e2-bb6d-73d82d266a70",
   "metadata": {},
   "outputs": [
    {
     "data": {
      "text/plain": [
       "[1, 23, 4, 5, 6, 4, 'deepak', 'yadav', [1, 2, 3, 4, 5]]"
      ]
     },
     "execution_count": 47,
     "metadata": {},
     "output_type": "execute_result"
    }
   ],
   "source": [
    "l"
   ]
  },
  {
   "cell_type": "code",
   "execution_count": 49,
   "id": "b65d4731-47cb-48c5-b448-7bacda13c0aa",
   "metadata": {},
   "outputs": [],
   "source": [
    "def test9(a):\n",
    "    \"\"\"This is my function to extract numeric data form list  ::: docstring \"\"\"\n",
    "    l=[]\n",
    "    for i in a:\n",
    "        if type(i)==list:\n",
    "            for j in i:\n",
    "                l.append(j)\n",
    "        else:\n",
    "            if type(i)==int or type(i)==float:\n",
    "                l.append(i)\n",
    "    return l\n",
    "                "
   ]
  },
  {
   "cell_type": "code",
   "execution_count": 51,
   "id": "7af7151d-4f30-4ac9-b8a3-7cc0fd9cf9be",
   "metadata": {},
   "outputs": [],
   "source": [
    "def test10(a,b):\n",
    "    return a+b"
   ]
  },
  {
   "cell_type": "code",
   "execution_count": 52,
   "id": "6ed40c2e-58c6-405f-b791-0af5d3f666b1",
   "metadata": {},
   "outputs": [],
   "source": [
    "def test11(*args):   ##args in not a keywords : args is just like conventions \n",
    "    return args"
   ]
  },
  {
   "cell_type": "code",
   "execution_count": 53,
   "id": "96311099-876b-480a-8fb8-ccb2751c37e1",
   "metadata": {},
   "outputs": [
    {
     "name": "stdout",
     "output_type": "stream",
     "text": [
      "my first funtion\n"
     ]
    }
   ],
   "source": [
    "test()"
   ]
  },
  {
   "cell_type": "code",
   "execution_count": 54,
   "id": "88174fec-b404-4b60-b400-f78c129ebbff",
   "metadata": {},
   "outputs": [
    {
     "data": {
      "text/plain": [
       "()"
      ]
     },
     "execution_count": 54,
     "metadata": {},
     "output_type": "execute_result"
    }
   ],
   "source": [
    "test11()"
   ]
  },
  {
   "cell_type": "code",
   "execution_count": 55,
   "id": "c13f424d-d019-4cf2-a61c-89216e815c69",
   "metadata": {},
   "outputs": [
    {
     "data": {
      "text/plain": [
       "tuple"
      ]
     },
     "execution_count": 55,
     "metadata": {},
     "output_type": "execute_result"
    }
   ],
   "source": [
    "type(test11())"
   ]
  },
  {
   "cell_type": "code",
   "execution_count": 56,
   "id": "02380fe8-ebea-44a0-9486-8ea96eb9ef66",
   "metadata": {},
   "outputs": [
    {
     "data": {
      "text/plain": [
       "(2, 3, 5, 5, 6, 778, 8)"
      ]
     },
     "execution_count": 56,
     "metadata": {},
     "output_type": "execute_result"
    }
   ],
   "source": [
    "test11(2,3,5,5,6,778,8,)"
   ]
  },
  {
   "cell_type": "code",
   "execution_count": 57,
   "id": "8cff666b-7d9b-4450-94ff-6cb0d7b9c5fd",
   "metadata": {},
   "outputs": [
    {
     "data": {
      "text/plain": [
       "('deepak', 1, 2, 34, [2, 4, 55, 2])"
      ]
     },
     "execution_count": 57,
     "metadata": {},
     "output_type": "execute_result"
    }
   ],
   "source": [
    "test11(a,1,2,34,[2,4,55,2])"
   ]
  },
  {
   "cell_type": "code",
   "execution_count": 58,
   "id": "e545a1f2-318c-459f-a1b7-7ac91c336ca0",
   "metadata": {},
   "outputs": [],
   "source": [
    "def test13(*args,a):\n",
    "    return args,a"
   ]
  },
  {
   "cell_type": "code",
   "execution_count": 60,
   "id": "ebfaf7e6-b6b4-4970-a3a9-e6aa9f690267",
   "metadata": {},
   "outputs": [
    {
     "data": {
      "text/plain": [
       "((1, 32, 4), 34)"
      ]
     },
     "execution_count": 60,
     "metadata": {},
     "output_type": "execute_result"
    }
   ],
   "source": [
    "test13(1,32,4 ,a=34)"
   ]
  },
  {
   "cell_type": "code",
   "execution_count": 62,
   "id": "2e329bf1-2ff3-4257-92ed-7c53d71699fc",
   "metadata": {},
   "outputs": [],
   "source": [
    "def test14(c,d,a=23,b=1,):\n",
    "    return a,b,c,d\n",
    "    "
   ]
  },
  {
   "cell_type": "code",
   "execution_count": 63,
   "id": "2344d344-e2fa-4aa5-95fd-6299ea2e2485",
   "metadata": {},
   "outputs": [
    {
     "data": {
      "text/plain": [
       "(23, 1, 'et', 'tyueu')"
      ]
     },
     "execution_count": 63,
     "metadata": {},
     "output_type": "execute_result"
    }
   ],
   "source": [
    "test14(\"et\",\"tyueu\")"
   ]
  },
  {
   "cell_type": "code",
   "execution_count": 64,
   "id": "5474b627-8fd5-4722-96cb-b379c77e3ba5",
   "metadata": {},
   "outputs": [
    {
     "data": {
      "text/plain": [
       "(678, 1, 2, 5)"
      ]
     },
     "execution_count": 64,
     "metadata": {},
     "output_type": "execute_result"
    }
   ],
   "source": [
    "test14(2,5,a=678)"
   ]
  },
  {
   "cell_type": "code",
   "execution_count": 65,
   "id": "70bc3c65-a1a3-46e4-af61-990503b614e2",
   "metadata": {},
   "outputs": [],
   "source": [
    "def test15(**kwargs):\n",
    "    return kwargs"
   ]
  },
  {
   "cell_type": "code",
   "execution_count": 67,
   "id": "57e77125-d412-44b1-a81c-bed5aec5ea07",
   "metadata": {},
   "outputs": [
    {
     "data": {
      "text/plain": [
       "dict"
      ]
     },
     "execution_count": 67,
     "metadata": {},
     "output_type": "execute_result"
    }
   ],
   "source": [
    "test15()\n",
    "type(test15())"
   ]
  },
  {
   "cell_type": "code",
   "execution_count": 68,
   "id": "d83e5bf9-c5c4-476e-ada5-8faacd4283b0",
   "metadata": {},
   "outputs": [
    {
     "data": {
      "text/plain": [
       "{'a': [2, 3, 545, 5], 'b': 'deepak', 'c': 67.9}"
      ]
     },
     "execution_count": 68,
     "metadata": {},
     "output_type": "execute_result"
    }
   ],
   "source": [
    "test15(a=[2,3,545,5],b=\"deepak\",c=67.90)"
   ]
  },
  {
   "cell_type": "code",
   "execution_count": null,
   "id": "1d84e56b-bf21-414a-90fb-9f040343dda1",
   "metadata": {},
   "outputs": [],
   "source": []
  }
 ],
 "metadata": {
  "kernelspec": {
   "display_name": "Python 3 (ipykernel)",
   "language": "python",
   "name": "python3"
  },
  "language_info": {
   "codemirror_mode": {
    "name": "ipython",
    "version": 3
   },
   "file_extension": ".py",
   "mimetype": "text/x-python",
   "name": "python",
   "nbconvert_exporter": "python",
   "pygments_lexer": "ipython3",
   "version": "3.12.7"
  }
 },
 "nbformat": 4,
 "nbformat_minor": 5
}
