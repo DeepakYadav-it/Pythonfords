{
 "cells": [
  {
   "cell_type": "code",
   "execution_count": 1,
   "id": "09bd6226-5da7-41cb-9dd7-142b7b66f5ca",
   "metadata": {},
   "outputs": [
    {
     "data": {
      "text/plain": [
       "str"
      ]
     },
     "execution_count": 1,
     "metadata": {},
     "output_type": "execute_result"
    }
   ],
   "source": [
    "type(\"learnigoops\")"
   ]
  },
  {
   "cell_type": "code",
   "execution_count": 2,
   "id": "d99b58f5-3fec-4b0e-89db-e9080dd69330",
   "metadata": {},
   "outputs": [
    {
     "name": "stdout",
     "output_type": "stream",
     "text": [
      "<class 'str'>\n"
     ]
    }
   ],
   "source": [
    "print(type(\"deepak\"))"
   ]
  },
  {
   "cell_type": "code",
   "execution_count": 3,
   "id": "3024fbcf-b074-4502-919c-814ec0d31dd2",
   "metadata": {},
   "outputs": [
    {
     "data": {
      "text/plain": [
       "'Object-Oriented Programming (OOP) in Python is a programming paradigm that uses objects and classes to structure and manage code. \\nIt is designed to model real-world entities using concepts like encapsulation, inheritance, and polymorphism.\\n\\nKey Concepts in OOP:\\n1. Class\\nA class is a blueprint for creating objects. It defines attributes (data) and methods (functions) that the objects will have.\\n2. Object\\nAn object is an instance of a class. It contains the data and behavior defined in the class.\\n3. Encapsulation\\nEncapsulation is the bundling of data and methods into a single unit (class) and restricting direct access to some components.\\n\\nPrivate attributes can be defined using a leading underscore _ or double underscore __.\\nAccessor (getter) and mutator (setter) methods are used to manage access.\\n\\n\\n'"
      ]
     },
     "execution_count": 3,
     "metadata": {},
     "output_type": "execute_result"
    }
   ],
   "source": [
    "\"\"\"Object-Oriented Programming (OOP) in Python is a programming paradigm that uses objects and classes to structure and manage code. \n",
    "It is designed to model real-world entities using concepts like encapsulation, inheritance, and polymorphism.\n",
    "\n",
    "Key Concepts in OOP:\n",
    "1. Class\n",
    "A class is a blueprint for creating objects. It defines attributes (data) and methods (functions) that the objects will have.\n",
    "2. Object\n",
    "An object is an instance of a class. It contains the data and behavior defined in the class.\n",
    "3. Encapsulation\n",
    "Encapsulation is the bundling of data and methods into a single unit (class) and restricting direct access to some components.\n",
    "\n",
    "Private attributes can be defined using a leading underscore _ or double underscore __.\n",
    "Accessor (getter) and mutator (setter) methods are used to manage access.\n",
    "\n",
    "\n",
    "\"\"\""
   ]
  },
  {
   "cell_type": "code",
   "execution_count": 4,
   "id": "fc6ea07a-3328-4323-b3f7-4372506af545",
   "metadata": {},
   "outputs": [],
   "source": [
    "class test:\n",
    "    pass"
   ]
  },
  {
   "cell_type": "code",
   "execution_count": 6,
   "id": "2c71141a-bf16-46d2-b1c5-efd45e176c05",
   "metadata": {},
   "outputs": [
    {
     "name": "stdout",
     "output_type": "stream",
     "text": [
      "<class 'type'>\n"
     ]
    }
   ],
   "source": [
    "print(type(test))"
   ]
  },
  {
   "cell_type": "code",
   "execution_count": 7,
   "id": "3829aab2-61a8-413c-8540-4953bb700195",
   "metadata": {},
   "outputs": [],
   "source": [
    "a=test()"
   ]
  },
  {
   "cell_type": "code",
   "execution_count": 8,
   "id": "dd3d4e4d-022b-4ebf-9651-277f02c2e2fc",
   "metadata": {},
   "outputs": [
    {
     "name": "stdout",
     "output_type": "stream",
     "text": [
      "<class '__main__.test'>\n"
     ]
    }
   ],
   "source": [
    "print(type(a))"
   ]
  },
  {
   "cell_type": "code",
   "execution_count": 26,
   "id": "2f329a65-e8a0-465b-a983-2b5a4d6a76c1",
   "metadata": {},
   "outputs": [],
   "source": [
    "class Learnpython:\n",
    "    def welcome_msg(self):\n",
    "        print(\"welcome to python learning\")"
   ]
  },
  {
   "cell_type": "code",
   "execution_count": 27,
   "id": "648d0c23-d0a5-4444-a421-7dc452ee601e",
   "metadata": {},
   "outputs": [],
   "source": [
    "l=Learnpython()"
   ]
  },
  {
   "cell_type": "code",
   "execution_count": 28,
   "id": "7a38157d-ddc5-4ccb-8f4c-f0e8e76f7d40",
   "metadata": {},
   "outputs": [
    {
     "name": "stdout",
     "output_type": "stream",
     "text": [
      "<__main__.Learnpython object at 0x000001EA08C82A80>\n"
     ]
    }
   ],
   "source": [
    "print(l)"
   ]
  },
  {
   "cell_type": "code",
   "execution_count": 29,
   "id": "17801dde-c89f-42d8-b557-0a0f80bc1257",
   "metadata": {},
   "outputs": [
    {
     "name": "stdout",
     "output_type": "stream",
     "text": [
      "<class '__main__.Learnpython'>\n"
     ]
    }
   ],
   "source": [
    "print(type(l))"
   ]
  },
  {
   "cell_type": "code",
   "execution_count": 30,
   "id": "beb40aeb-8b31-4975-ae02-0bbdb75ad353",
   "metadata": {},
   "outputs": [],
   "source": [
    "#to call function of any class you have to use self keyword in that curresponding function of the class , by using self\n",
    "#key word each funtion is able to know itslef that its belong to the whose specific class \n",
    "# in above case if you want to call welcome_msg() function you suppose use the self key word in that functionn as first parameter ."
   ]
  },
  {
   "cell_type": "code",
   "execution_count": 31,
   "id": "233461df-d834-4a2f-b048-801ac9c833e3",
   "metadata": {},
   "outputs": [
    {
     "name": "stdout",
     "output_type": "stream",
     "text": [
      "welcome to python learning\n"
     ]
    }
   ],
   "source": [
    "l.welcome_msg()"
   ]
  },
  {
   "cell_type": "code",
   "execution_count": 57,
   "id": "92619637-8aec-4327-b7dd-26237fd0a0fb",
   "metadata": {},
   "outputs": [],
   "source": [
    "class Learnpython1:\n",
    "    def __init__(self,name,age,phone_number,sid):\n",
    "        self.name=name\n",
    "        self.age=age\n",
    "        self.phone_number=phone_number\n",
    "        self.sid=sid\n",
    "    def  return_student_details(self):\n",
    "        return self.sid,self.name,self.age,self.phone_number\n",
    "    def welcome_msg1(self):\n",
    "        print(\"welcome to python learning\")\n",
    "    "
   ]
  },
  {
   "cell_type": "code",
   "execution_count": 58,
   "id": "252226e6-bc93-41cd-a462-e0cb389e6c16",
   "metadata": {},
   "outputs": [],
   "source": [
    "object1=Learnpython1(\"deepak\",24,9892,6700)"
   ]
  },
  {
   "cell_type": "code",
   "execution_count": 59,
   "id": "46086634-d2a3-4853-82f8-4c3fcb882c51",
   "metadata": {},
   "outputs": [
    {
     "name": "stdout",
     "output_type": "stream",
     "text": [
      "welcome to python learning\n"
     ]
    }
   ],
   "source": [
    "object1.welcome_msg1()"
   ]
  },
  {
   "cell_type": "code",
   "execution_count": 60,
   "id": "7cee5447-05a9-4e07-ae97-7a43b8ea3b5e",
   "metadata": {},
   "outputs": [
    {
     "data": {
      "text/plain": [
       "(6700, 'deepak', 24, 9892)"
      ]
     },
     "execution_count": 60,
     "metadata": {},
     "output_type": "execute_result"
    }
   ],
   "source": [
    "object1.return_student_details()"
   ]
  },
  {
   "cell_type": "code",
   "execution_count": 61,
   "id": "81c4508c-291b-451c-814d-83b4e8fb527b",
   "metadata": {},
   "outputs": [],
   "source": [
    "gaurav=Learnpython1(\"Graurav\",22,98934,567)"
   ]
  },
  {
   "cell_type": "code",
   "execution_count": 62,
   "id": "c660556e-241a-484c-8dce-8ff9eeaeab7d",
   "metadata": {},
   "outputs": [],
   "source": [
    "lets=gaurav.return_student_details()"
   ]
  },
  {
   "cell_type": "code",
   "execution_count": 63,
   "id": "e7d4da72-033a-41d6-92bc-3fb5a12d25f5",
   "metadata": {},
   "outputs": [
    {
     "data": {
      "text/plain": [
       "(567, 'Graurav', 22, 98934)"
      ]
     },
     "execution_count": 63,
     "metadata": {},
     "output_type": "execute_result"
    }
   ],
   "source": [
    "lets"
   ]
  },
  {
   "cell_type": "code",
   "execution_count": 64,
   "id": "a180047c-1cdc-4f70-b0b1-08f454a41bb6",
   "metadata": {},
   "outputs": [
    {
     "data": {
      "text/plain": [
       "'Graurav'"
      ]
     },
     "execution_count": 64,
     "metadata": {},
     "output_type": "execute_result"
    }
   ],
   "source": [
    "gaurav.name"
   ]
  },
  {
   "cell_type": "code",
   "execution_count": 65,
   "id": "3ec6a875-7e96-4667-870d-4d8b4717a7f4",
   "metadata": {},
   "outputs": [
    {
     "data": {
      "text/plain": [
       "567"
      ]
     },
     "execution_count": 65,
     "metadata": {},
     "output_type": "execute_result"
    }
   ],
   "source": [
    "gaurav.sid"
   ]
  },
  {
   "cell_type": "code",
   "execution_count": 66,
   "id": "3b51926d-a44b-48ac-9f1b-da8a3844f5ca",
   "metadata": {},
   "outputs": [
    {
     "data": {
      "text/plain": [
       "9892"
      ]
     },
     "execution_count": 66,
     "metadata": {},
     "output_type": "execute_result"
    }
   ],
   "source": [
    "object1.phone_number"
   ]
  },
  {
   "cell_type": "code",
   "execution_count": 67,
   "id": "0a4fe0ed-e133-498a-88f8-326041a5a110",
   "metadata": {},
   "outputs": [],
   "source": [
    "class Person:\n",
    "    def __init__(self, name, age):  # Constructor\n",
    "        self.name = name\n",
    "        self.age = age\n",
    "\n",
    "    def greet(self):  # Method\n",
    "        return f\"Hello, my name is {self.name}!\"\n"
   ]
  },
  {
   "cell_type": "code",
   "execution_count": 69,
   "id": "1df07705-06e2-415a-b412-1ab7c9a1c394",
   "metadata": {},
   "outputs": [
    {
     "name": "stdout",
     "output_type": "stream",
     "text": [
      "Hello, my name is deepak!\n"
     ]
    }
   ],
   "source": [
    "person1 = Person(\"deepak\", 25)  # Object of the Person class\n",
    "print(person1.greet())  # Output: Hello, my name is Alice!\n"
   ]
  },
  {
   "cell_type": "code",
   "execution_count": null,
   "id": "fe9008a2-d47c-4e17-9de5-10fe095a2ff0",
   "metadata": {},
   "outputs": [],
   "source": []
  }
 ],
 "metadata": {
  "kernelspec": {
   "display_name": "Python 3 (ipykernel)",
   "language": "python",
   "name": "python3"
  },
  "language_info": {
   "codemirror_mode": {
    "name": "ipython",
    "version": 3
   },
   "file_extension": ".py",
   "mimetype": "text/x-python",
   "name": "python",
   "nbconvert_exporter": "python",
   "pygments_lexer": "ipython3",
   "version": "3.12.7"
  }
 },
 "nbformat": 4,
 "nbformat_minor": 5
}
